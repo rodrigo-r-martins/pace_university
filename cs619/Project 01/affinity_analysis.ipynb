{
 "cells": [
  {
   "cell_type": "code",
   "execution_count": 1,
   "metadata": {},
   "outputs": [],
   "source": [
    "import numpy as np\n",
    "\n",
    "# Loading affinity dataset\n",
    "dataset_filename = \"affinity_dataset.txt\"\n",
    "X = np.loadtxt(dataset_filename)"
   ]
  },
  {
   "cell_type": "code",
   "execution_count": 2,
   "metadata": {},
   "outputs": [
    {
     "name": "stdout",
     "output_type": "stream",
     "text": [
      "Samples in dataset = 100\n",
      "Features in dataset = 5\n"
     ]
    }
   ],
   "source": [
    "# Checking dataset samples and features\n",
    "n_samples, n_features = X.shape\n",
    "print(f'Samples in dataset = {n_samples}')\n",
    "print(f'Features in dataset = {n_features}')"
   ]
  },
  {
   "cell_type": "code",
   "execution_count": 3,
   "metadata": {},
   "outputs": [
    {
     "name": "stdout",
     "output_type": "stream",
     "text": [
      "[[0. 1. 0. 0. 0.]\n",
      " [1. 1. 0. 0. 0.]\n",
      " [0. 0. 1. 0. 1.]\n",
      " [1. 1. 0. 0. 0.]\n",
      " [0. 0. 1. 1. 1.]]\n"
     ]
    }
   ],
   "source": [
    "# Understanding the dataset\n",
    "# Printing 5 of 100 samples to check their features\n",
    "print(X[:5])"
   ]
  },
  {
   "cell_type": "code",
   "execution_count": 4,
   "metadata": {},
   "outputs": [],
   "source": [
    "# Turning numbers of dataset in words\n",
    "features = ['bread', 'milk', 'cheese', 'apples', 'bananas']"
   ]
  },
  {
   "cell_type": "code",
   "execution_count": 5,
   "metadata": {},
   "outputs": [
    {
     "name": "stdout",
     "output_type": "stream",
     "text": [
      "43 people bought Apples\n",
      "27 times the rule was valid\n",
      "16 time the rule was invalid\n"
     ]
    }
   ],
   "source": [
    "# Checking rule: If a person buys Apples, they also buy Bananas.\n",
    "# 1st) Checking the number of people who bought Apples\n",
    "# 2nd) Checking the entire rule\n",
    "num_apple_purchases = 0\n",
    "rule_valid = 0\n",
    "rule_invalid = 0\n",
    "for sample in X:\n",
    "    if sample[3] == 1:         # Which means the person bought Apple\n",
    "        num_apple_purchases += 1\n",
    "        if sample[4] == 1:     # Which means the person bought Banana as well\n",
    "            rule_valid += 1\n",
    "        else:\n",
    "            rule_invalid += 1\n",
    "print(f'{num_apple_purchases} people bought Apples')\n",
    "print(f'{rule_valid} times the rule was valid')\n",
    "print(f'{rule_invalid} time the rule was invalid')"
   ]
  },
  {
   "cell_type": "code",
   "execution_count": 6,
   "metadata": {},
   "outputs": [
    {
     "name": "stdout",
     "output_type": "stream",
     "text": [
      "Support = 27\n",
      "Confidence = 0.628 or 62.8%\n"
     ]
    }
   ],
   "source": [
    "# Now that I have the statistics of the rule I can compute support and confidence\n",
    "# Support is simply the valid rules\n",
    "support_ex = rule_valid\n",
    "\n",
    "# To get confidence I should simply divide number of valid rules by the number of samples where Apple occurs and get the percentage of this\n",
    "confidence_ex = rule_valid / num_apple_purchases\n",
    "\n",
    "# Getting values\n",
    "print(f'Support = {support_ex}')\n",
    "print(f'Confidence = {confidence_ex:.3f} or {confidence_ex*100:.1f}%')"
   ]
  },
  {
   "cell_type": "code",
   "execution_count": 7,
   "metadata": {},
   "outputs": [],
   "source": [
    "# Setting up dictionaries to store all the results\n",
    "from collections import defaultdict\n",
    "valid_rules = defaultdict(int)\n",
    "invalid_rules = defaultdict(int)\n",
    "num_occurrences = defaultdict(int)"
   ]
  },
  {
   "cell_type": "code",
   "execution_count": 8,
   "metadata": {},
   "outputs": [],
   "source": [
    "# Computing values in a large loop:\n",
    "# 1st: Iterate over each sample in the dataset then loop over each feature as a premise\n",
    "# 2nd: Loop again over each feature as a possible conclusion, mapping relashionship premise to conclusion\n",
    "# If sample contains a person who bought the premise and the conclusion we record this in valid_rules.\n",
    "# If they did not purchase the conclusion product, we record in invalid_rules\n",
    "for sample in X:\n",
    "    for premise in range(n_features):\n",
    "        if sample[premise] == 0:\n",
    "            continue\n",
    "        num_occurrences[premise] += 1\n",
    "        for conclusion in range(n_features):\n",
    "            if premise == conclusion:\n",
    "                continue\n",
    "            if sample[conclusion] == 1:\n",
    "                valid_rules[(premise, conclusion)] += 1\n",
    "            else:\n",
    "                invalid_rules[(premise, conclusion)] += 1"
   ]
  },
  {
   "cell_type": "code",
   "execution_count": 9,
   "metadata": {},
   "outputs": [],
   "source": [
    "# Now that I have the statistics of all rules I can compute support and confidence as before\n",
    "support = valid_rules\n",
    "confidence = defaultdict(float)\n",
    "for premise, conclusion in valid_rules.keys():\n",
    "    rule = (premise, conclusion)\n",
    "    confidence[rule] = valid_rules[rule] / num_occurrences[premise]\n"
   ]
  },
  {
   "cell_type": "code",
   "execution_count": 10,
   "metadata": {},
   "outputs": [
    {
     "name": "stdout",
     "output_type": "stream",
     "text": [
      "Rule: If a person buys bread they will also buy milk\n",
      "- Confidence: 0.464 or 46.4%\n",
      "- Support: 13\n",
      "\n",
      "Rule: If a person buys milk they will also buy bread\n",
      "- Confidence: 0.250 or 25.0%\n",
      "- Support: 13\n",
      "\n",
      "Rule: If a person buys cheese they will also buy bananas\n",
      "- Confidence: 0.513 or 51.3%\n",
      "- Support: 20\n",
      "\n",
      "Rule: If a person buys bananas they will also buy cheese\n",
      "- Confidence: 0.351 or 35.1%\n",
      "- Support: 20\n",
      "\n",
      "Rule: If a person buys cheese they will also buy apples\n",
      "- Confidence: 0.564 or 56.4%\n",
      "- Support: 22\n",
      "\n",
      "Rule: If a person buys apples they will also buy cheese\n",
      "- Confidence: 0.512 or 51.2%\n",
      "- Support: 22\n",
      "\n",
      "Rule: If a person buys apples they will also buy bananas\n",
      "- Confidence: 0.628 or 62.8%\n",
      "- Support: 27\n",
      "\n",
      "Rule: If a person buys bananas they will also buy apples\n",
      "- Confidence: 0.474 or 47.4%\n",
      "- Support: 27\n",
      "\n",
      "Rule: If a person buys milk they will also buy apples\n",
      "- Confidence: 0.346 or 34.6%\n",
      "- Support: 18\n",
      "\n",
      "Rule: If a person buys apples they will also buy milk\n",
      "- Confidence: 0.419 or 41.9%\n",
      "- Support: 18\n",
      "\n",
      "Rule: If a person buys milk they will also buy bananas\n",
      "- Confidence: 0.519 or 51.9%\n",
      "- Support: 27\n",
      "\n",
      "Rule: If a person buys bananas they will also buy milk\n",
      "- Confidence: 0.474 or 47.4%\n",
      "- Support: 27\n",
      "\n",
      "Rule: If a person buys bread they will also buy cheese\n",
      "- Confidence: 0.179 or 17.9%\n",
      "- Support: 5\n",
      "\n",
      "Rule: If a person buys cheese they will also buy bread\n",
      "- Confidence: 0.128 or 12.8%\n",
      "- Support: 5\n",
      "\n",
      "Rule: If a person buys bread they will also buy bananas\n",
      "- Confidence: 0.571 or 57.1%\n",
      "- Support: 16\n",
      "\n",
      "Rule: If a person buys bananas they will also buy bread\n",
      "- Confidence: 0.281 or 28.1%\n",
      "- Support: 16\n",
      "\n",
      "Rule: If a person buys milk they will also buy cheese\n",
      "- Confidence: 0.212 or 21.2%\n",
      "- Support: 11\n",
      "\n",
      "Rule: If a person buys cheese they will also buy milk\n",
      "- Confidence: 0.282 or 28.2%\n",
      "- Support: 11\n",
      "\n",
      "Rule: If a person buys bread they will also buy apples\n",
      "- Confidence: 0.321 or 32.1%\n",
      "- Support: 9\n",
      "\n",
      "Rule: If a person buys apples they will also buy bread\n",
      "- Confidence: 0.209 or 20.9%\n",
      "- Support: 9\n",
      "\n"
     ]
    }
   ],
   "source": [
    "# Printing all the possible rules in a readable format. \n",
    "# Signature of the rule takes the premise and conclusion indices, the support and confidence dictionaries, and the features array to tell us what the features mean.\n",
    "for premise, conclusion in confidence:\n",
    "    premise_name = features[premise]\n",
    "    conclusion_name = features[conclusion]\n",
    "    rule = (premise, conclusion)\n",
    "    print(f'Rule: If a person buys {premise_name} they will also buy {conclusion_name}')\n",
    "    print(f'- Confidence: {confidence[rule]:.3f} or {confidence[rule]*100:.1f}%')\n",
    "    print(f'- Support: {support[rule]}')\n",
    "    print('')"
   ]
  },
  {
   "cell_type": "code",
   "execution_count": 11,
   "metadata": {},
   "outputs": [],
   "source": [
    "# Defining print_rule method\n",
    "def print_rule(premise, conclusion, support, confidence, features):\n",
    "    premise_name = features[premise]\n",
    "    conclusion_name = features[conclusion]\n",
    "    rule = (premise, conclusion)\n",
    "    print(f'Rule: If a person buys {premise_name} they will also buy {conclusion_name}')\n",
    "    print(f' - Support: {support[rule]}')\n",
    "    print(f' - Confidence: {confidence[rule]:.3f} or {confidence[rule]*100:.1f}%')\n",
    "    print('')"
   ]
  },
  {
   "cell_type": "code",
   "execution_count": 12,
   "metadata": {},
   "outputs": [],
   "source": [
    "from operator import itemgetter"
   ]
  },
  {
   "cell_type": "code",
   "execution_count": 13,
   "metadata": {},
   "outputs": [
    {
     "name": "stdout",
     "output_type": "stream",
     "text": [
      "Rule #1\n",
      "Rule: If a person buys apples they will also buy bananas\n",
      " - Support: 27\n",
      " - Confidence: 0.628 or 62.8%\n",
      "\n",
      "Rule #2\n",
      "Rule: If a person buys bananas they will also buy apples\n",
      " - Support: 27\n",
      " - Confidence: 0.474 or 47.4%\n",
      "\n",
      "Rule #3\n",
      "Rule: If a person buys milk they will also buy bananas\n",
      " - Support: 27\n",
      " - Confidence: 0.519 or 51.9%\n",
      "\n",
      "Rule #4\n",
      "Rule: If a person buys bananas they will also buy milk\n",
      " - Support: 27\n",
      " - Confidence: 0.474 or 47.4%\n",
      "\n",
      "Rule #5\n",
      "Rule: If a person buys cheese they will also buy apples\n",
      " - Support: 22\n",
      " - Confidence: 0.564 or 56.4%\n",
      "\n"
     ]
    }
   ],
   "source": [
    "# TOP 5 RULES SORTED BY SUPPORT\n",
    "sorted_support = sorted(support.items(), key=itemgetter(1), reverse=True)\n",
    "for index in range(5):\n",
    "    print(f'Rule #{index+1}')\n",
    "    (premise, conclusion) = sorted_support[index][0]\n",
    "    print_rule(premise, conclusion, support, confidence, features)"
   ]
  },
  {
   "cell_type": "code",
   "execution_count": 14,
   "metadata": {},
   "outputs": [
    {
     "name": "stdout",
     "output_type": "stream",
     "text": [
      "Rule #1\n",
      "Rule: If a person buys apples they will also buy bananas\n",
      " - Support: 27\n",
      " - Confidence: 0.628 or 62.8%\n",
      "\n",
      "Rule #2\n",
      "Rule: If a person buys bread they will also buy bananas\n",
      " - Support: 16\n",
      " - Confidence: 0.571 or 57.1%\n",
      "\n",
      "Rule #3\n",
      "Rule: If a person buys cheese they will also buy apples\n",
      " - Support: 22\n",
      " - Confidence: 0.564 or 56.4%\n",
      "\n",
      "Rule #4\n",
      "Rule: If a person buys milk they will also buy bananas\n",
      " - Support: 27\n",
      " - Confidence: 0.519 or 51.9%\n",
      "\n",
      "Rule #5\n",
      "Rule: If a person buys cheese they will also buy bananas\n",
      " - Support: 20\n",
      " - Confidence: 0.513 or 51.3%\n",
      "\n"
     ]
    }
   ],
   "source": [
    "# TOP 5 RULES SORTED BY CONFIDENCE\n",
    "sorted_confidence = sorted(confidence.items(), key=itemgetter(1), reverse=True)\n",
    "for index in range(5):\n",
    "    print(f'Rule #{index+1}')\n",
    "    (premise, conclusion) = sorted_confidence[index][0]\n",
    "    print_rule(premise, conclusion, support, confidence, features)"
   ]
  },
  {
   "cell_type": "code",
   "execution_count": 15,
   "metadata": {},
   "outputs": [],
   "source": [
    "# Configuring Notebook to display graphics inline\n",
    "%matplotlib inline"
   ]
  },
  {
   "cell_type": "code",
   "execution_count": 16,
   "metadata": {},
   "outputs": [
    {
     "data": {
      "text/plain": [
       "[<matplotlib.lines.Line2D at 0x25e4fa43c40>]"
      ]
     },
     "execution_count": 16,
     "metadata": {},
     "output_type": "execute_result"
    },
    {
     "data": {
      "image/png": "[encoded data removed]",
      "text/plain": [
       "<Figure size 432x288 with 1 Axes>"
      ]
     },
     "metadata": {
      "needs_background": "light"
     },
     "output_type": "display_data"
    }
   ],
   "source": [
    "# Simple line plot showing the confidence values of the rules in order of confidence\n",
    "from matplotlib import pyplot as plt\n",
    "plt.plot([confidence[rule[0]] for rule in sorted_confidence])"
   ]
  },
  {
   "cell_type": "code",
   "execution_count": null,
   "metadata": {},
   "outputs": [],
   "source": []
  }
 ],
 "metadata": {
  "kernelspec": {
   "display_name": "Python 3",
   "language": "python",
   "name": "python3"
  },
  "language_info": {
   "codemirror_mode": {
    "name": "ipython",
    "version": 3
   },
   "file_extension": ".py",
   "mimetype": "text/x-python",
   "name": "python",
   "nbconvert_exporter": "python",
   "pygments_lexer": "ipython3",
   "version": "3.8.1"
  }
 },
 "nbformat": 4,
 "nbformat_minor": 4
}
