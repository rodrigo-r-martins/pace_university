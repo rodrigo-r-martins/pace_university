{
 "cells": [
  {
   "cell_type": "code",
   "execution_count": 1,
   "metadata": {},
   "outputs": [],
   "source": [
    "%matplotlib inline"
   ]
  },
  {
   "cell_type": "code",
   "execution_count": 2,
   "metadata": {},
   "outputs": [
    {
     "name": "stdout",
     "output_type": "stream",
     "text": [
      "C:\\Users\\rmart\n"
     ]
    }
   ],
   "source": [
    "# Checking home folder\n",
    "import os\n",
    "print(os.path.expanduser(\"~\"))"
   ]
  },
  {
   "cell_type": "code",
   "execution_count": 3,
   "metadata": {},
   "outputs": [
    {
     "name": "stdout",
     "output_type": "stream",
     "text": [
      "C:/Users/rmart/OneDrive/Desktop/Pace/CS619/Chapter02/data/ionosphere.data\n"
     ]
    }
   ],
   "source": [
    "# To start with, we load up the Numpy and csv libraries that we will need for the code\n",
    "import numpy as np\n",
    "import csv\n",
    "data_filename = \"C:/Users/rmart/OneDrive/Desktop/Pace/CS619/Chapter02/data/ionosphere.data\"\n",
    "print(data_filename)"
   ]
  },
  {
   "cell_type": "code",
   "execution_count": 4,
   "metadata": {},
   "outputs": [],
   "source": [
    "# Creating X and Y Numpy arrays to store dataset in\n",
    "x = np.zeros((351, 34), dtype='float')\n",
    "y = np.zeros((351,), dtype='bool')"
   ]
  },
  {
   "cell_type": "code",
   "execution_count": 5,
   "metadata": {},
   "outputs": [],
   "source": [
    "# Using csv module to load the file\n",
    "# Import it and set up a csv reader object, then loop through the file\n",
    "# Then set the row in x and class value in y for every line in the dataset\n",
    "with open(data_filename, 'r') as input_file:\n",
    "    reader = csv.reader(input_file)\n",
    "    for i, row in enumerate(reader):\n",
    "        # Get the data, converting each item to a float\n",
    "        data = [float(datum) for datum in row[:-1]]\n",
    "        \n",
    "        # Set the appropriate row in our dataset\n",
    "        x[i] = data\n",
    "        # 1 if the class is 'g', 0 otherwise\n",
    "        y[i] = row[-1] == 'g'"
   ]
  },
  {
   "cell_type": "code",
   "execution_count": 6,
   "metadata": {},
   "outputs": [],
   "source": [
    "# Creating training and testing sets\n",
    "from sklearn.model_selection import train_test_split\n",
    "x_train, x_test, y_train, y_test = train_test_split(x, y, random_state=14)"
   ]
  },
  {
   "cell_type": "code",
   "execution_count": 7,
   "metadata": {},
   "outputs": [
    {
     "name": "stdout",
     "output_type": "stream",
     "text": [
      "There are 263 samples in the training set\n",
      "There are 34 features in the training set\n",
      "There are 88 samples in the testing set\n",
      "There are 34 features in the testing set\n"
     ]
    }
   ],
   "source": [
    "# Checking the shape of sets\n",
    "print(f'There are {x_train.shape[0]} samples in the training set')\n",
    "print(f'There are {x_train.shape[1]} features in the training set')\n",
    "print(f'There are {x_test.shape[0]} samples in the testing set')\n",
    "print(f'There are {x_test.shape[1]} features in the testing set')"
   ]
  },
  {
   "cell_type": "code",
   "execution_count": 8,
   "metadata": {},
   "outputs": [],
   "source": [
    "# Then import the nearest neighbor class and create an instance for it\n",
    "# Parameters as defaults for now\n",
    "# By default, algorithm will choose the five nearest neighbors to predict the class of a testing sample\n",
    "from sklearn.neighbors import KNeighborsClassifier\n",
    "estimator = KNeighborsClassifier()"
   ]
  },
  {
   "cell_type": "code",
   "execution_count": 9,
   "metadata": {},
   "outputs": [
    {
     "data": {
      "text/plain": [
       "KNeighborsClassifier(algorithm='auto', leaf_size=30, metric='minkowski',\n",
       "                     metric_params=None, n_jobs=None, n_neighbors=5, p=2,\n",
       "                     weights='uniform')"
      ]
     },
     "execution_count": 9,
     "metadata": {},
     "output_type": "execute_result"
    }
   ],
   "source": [
    "# After creating the estimator, we must fit it in our training dataset\n",
    "estimator.fit(x_train, y_train)"
   ]
  },
  {
   "cell_type": "code",
   "execution_count": 10,
   "metadata": {},
   "outputs": [
    {
     "name": "stdout",
     "output_type": "stream",
     "text": [
      "The accuracy is 86.4%\n"
     ]
    }
   ],
   "source": [
    "# Then we train the algorithm with our test set and evaluate with our testing set\n",
    "y_predicted = estimator.predict(x_test)\n",
    "accuracy = np.mean(y_test == y_predicted) * 100\n",
    "print(f'The accuracy is {accuracy:.1f}%')"
   ]
  },
  {
   "cell_type": "code",
   "execution_count": 11,
   "metadata": {},
   "outputs": [
    {
     "name": "stdout",
     "output_type": "stream",
     "text": [
      "The average accuracy is 82.6%\n"
     ]
    }
   ],
   "source": [
    "# The scikit-learn library contains a few cross-fold validation methods\n",
    "from sklearn.model_selection import cross_val_score\n",
    "\n",
    "# Using this new function to evaluate our model using cross-fold validation\n",
    "scores = cross_val_score(estimator, x, y, scoring='accuracy')\n",
    "average_accuracy = np.mean(scores) * 100\n",
    "print(f'The average accuracy is {average_accuracy:.1f}%')"
   ]
  },
  {
   "cell_type": "code",
   "execution_count": 12,
   "metadata": {},
   "outputs": [],
   "source": [
    "# Investigating the impact of parameter on performance by testing a number of values for the n_neighbors parameter\n",
    "avg_scores = []\n",
    "all_scores = []\n",
    "parameter_values = list(range(1, 21))    # 20 is included\n",
    "for n_neighbors in parameter_values:\n",
    "    estimator = KNeighborsClassifier(n_neighbors=n_neighbors)\n",
    "    scores = cross_val_score(estimator, x, y, scoring='accuracy')\n",
    "    avg_scores.append(np.mean(scores))\n",
    "    all_scores.append(scores)"
   ]
  },
  {
   "cell_type": "code",
   "execution_count": 13,
   "metadata": {},
   "outputs": [
    {
     "data": {
      "text/plain": [
       "[<matplotlib.lines.Line2D at 0x21beca598b0>]"
      ]
     },
     "execution_count": 13,
     "metadata": {},
     "output_type": "execute_result"
    },
    {
     "data": {
      "image/png": "[encoded data removed]",
      "text/plain": [
       "<Figure size 432x288 with 1 Axes>"
      ]
     },
     "metadata": {
      "needs_background": "light"
     },
     "output_type": "display_data"
    }
   ],
   "source": [
    "# Plotting the relationship between the value of n_neighbors and the accuracy\n",
    "from matplotlib import pyplot as plt\n",
    "plt.plot(parameter_values, avg_scores, '-o')"
   ]
  },
  {
   "cell_type": "code",
   "execution_count": 14,
   "metadata": {},
   "outputs": [],
   "source": [
    "# Testing 100 parameter_values to check variance\n",
    "new_avg_scores = []\n",
    "new_all_scores = []\n",
    "new_parameter_values = list(range(1, 101))    # 100 is included\n",
    "for n_neighbors in new_parameter_values:\n",
    "    estimator = KNeighborsClassifier(n_neighbors=n_neighbors)\n",
    "    new_scores = cross_val_score(estimator, x, y, scoring='accuracy')\n",
    "    new_avg_scores.append(np.mean(new_scores))\n",
    "    new_all_scores.append(new_scores)"
   ]
  },
  {
   "cell_type": "code",
   "execution_count": 15,
   "metadata": {},
   "outputs": [
    {
     "data": {
      "text/plain": [
       "[<matplotlib.lines.Line2D at 0x21beeb09fa0>]"
      ]
     },
     "execution_count": 15,
     "metadata": {},
     "output_type": "execute_result"
    },
    {
     "data": {
      "image/png": "[encoded data removed]",
      "text/plain": [
       "<Figure size 432x288 with 1 Axes>"
      ]
     },
     "metadata": {
      "needs_background": "light"
     },
     "output_type": "display_data"
    }
   ],
   "source": [
    "# Plotting new parameter values alongside average scores\n",
    "plt.plot(new_parameter_values, new_avg_scores, '-o')"
   ]
  },
  {
   "cell_type": "code",
   "execution_count": 16,
   "metadata": {},
   "outputs": [],
   "source": [
    "# Dealing with features problem in range through breaking dataset\n",
    "# First we create a copy of the array so we don't alter the original one\n",
    "x_broken = np.array(x)\n",
    "\n",
    "# Next we break the dataset by dividing every second feature by 10\n",
    "x_broken[:,::2] /= 10"
   ]
  },
  {
   "cell_type": "code",
   "execution_count": 17,
   "metadata": {},
   "outputs": [
    {
     "name": "stdout",
     "output_type": "stream",
     "text": [
      "The original average accuracy for is 82.6%\n",
      "The 'broken' average accuracy for is 73.8%\n"
     ]
    }
   ],
   "source": [
    "# Checking the effect of that by computing the accuracy\n",
    "estimator = KNeighborsClassifier()\n",
    "original_scores = cross_val_score(estimator, x, y, scoring='accuracy')\n",
    "print(f'The original average accuracy for is {np.mean(original_scores)*100:.1f}%')\n",
    "broken_scores = cross_val_score(estimator, x_broken, y, scoring='accuracy')\n",
    "print(f'The \\'broken\\' average accuracy for is {np.mean(broken_scores)*100:.1f}%')"
   ]
  },
  {
   "cell_type": "code",
   "execution_count": 18,
   "metadata": {},
   "outputs": [],
   "source": [
    "# Pre-processing feature-based normalization\n",
    "from sklearn.preprocessing import MinMaxScaler"
   ]
  },
  {
   "cell_type": "code",
   "execution_count": 19,
   "metadata": {},
   "outputs": [
    {
     "name": "stdout",
     "output_type": "stream",
     "text": [
      "[[1.       0.       0.997695 ... 0.227565 0.593205 0.2735  ]\n",
      " [1.       0.       1.       ... 0.46856  0.43131  0.487765]\n",
      " [1.       0.       1.       ... 0.3791   0.780225 0.30881 ]\n",
      " ...\n",
      " [1.       0.       0.973505 ... 0.50221  0.963485 0.497115]\n",
      " [1.       0.       0.95304  ... 0.481215 0.937015 0.418785]\n",
      " [1.       0.       0.92355  ... 0.46661  0.92882  0.469245]]\n"
     ]
    }
   ],
   "source": [
    "# Running the transform function to pre-processor\n",
    "x_transformed = MinMaxScaler().fit_transform(x)\n",
    "# x_transformed will have same shape as x yet each column will have a max of 1 and min of 0\n",
    "print(x_transformed)"
   ]
  },
  {
   "cell_type": "code",
   "execution_count": 20,
   "metadata": {},
   "outputs": [
    {
     "name": "stdout",
     "output_type": "stream",
     "text": [
      "The average accuracy for is 82.9%\n"
     ]
    }
   ],
   "source": [
    "# Creating a workflow by combining the code from previous sections\n",
    "x_transformed = MinMaxScaler().fit_transform(x_broken)\n",
    "estimator = KNeighborsClassifier()\n",
    "transformed_scores = cross_val_score(estimator, x_transformed, y, scoring='accuracy')\n",
    "print(f'The average accuracy for is {np.mean(transformed_scores)*100:.1f}%')"
   ]
  },
  {
   "cell_type": "code",
   "execution_count": 21,
   "metadata": {},
   "outputs": [],
   "source": [
    "# Using pipelines to expect an estimator\n",
    "from sklearn.pipeline import Pipeline\n",
    "\n",
    "scaling_pipeline = Pipeline([('scale', MinMaxScaler()), ('predict', KNeighborsClassifier())])"
   ]
  },
  {
   "cell_type": "code",
   "execution_count": 22,
   "metadata": {},
   "outputs": [
    {
     "name": "stdout",
     "output_type": "stream",
     "text": [
      "The pipeline scored an average accuracy for is 82.9%\n"
     ]
    }
   ],
   "source": [
    "# Testing pipeline using cross-validation code from before\n",
    "scores = cross_val_score(scaling_pipeline, x_broken, y, scoring='accuracy')\n",
    "print(f'The pipeline scored an average accuracy for is {np.mean(transformed_scores)*100:.1f}%')"
   ]
  },
  {
   "cell_type": "code",
   "execution_count": null,
   "metadata": {},
   "outputs": [],
   "source": []
  }
 ],
 "metadata": {
  "kernelspec": {
   "display_name": "Python 3",
   "language": "python",
   "name": "python3"
  },
  "language_info": {
   "codemirror_mode": {
    "name": "ipython",
    "version": 3
   },
   "file_extension": ".py",
   "mimetype": "text/x-python",
   "name": "python",
   "nbconvert_exporter": "python",
   "pygments_lexer": "ipython3",
   "version": "3.8.1"
  }
 },
 "nbformat": 4,
 "nbformat_minor": 4
}
