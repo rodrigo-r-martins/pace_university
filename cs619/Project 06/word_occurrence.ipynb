{
 "cells": [
  {
   "cell_type": "code",
   "execution_count": 1,
   "metadata": {},
   "outputs": [
    {
     "name": "stdout",
     "output_type": "stream",
     "text": [
      "[('the', 8), ('for', 4), ('in', 4), ('to', 4), ('one', 4)]\n"
     ]
    }
   ],
   "source": [
    "# Program used to check the number of occurrence of each word in a text\n",
    "s = \"\"\"Three Rings for the Elven-kings under the sky, Seven for the Dwarf-lords in halls of stone, Nine for Mortal Men,\n",
    "doomed to die, One for the Dark Lord on his dark throne. In the Land Of Mordor where the Shadows lie. One Ring to rule \n",
    "them all, One Ring to find them, One Ring to bring them all and in the darkness bind them. In the Land of Mordor where \n",
    "Shadows lie.\"\"\".lower()\n",
    "words = s.split()\n",
    "\n",
    "from collections import Counter\n",
    "c = Counter(words)\n",
    "print(c.most_common(5))"
   ]
  },
  {
   "cell_type": "code",
   "execution_count": null,
   "metadata": {},
   "outputs": [],
   "source": []
  }
 ],
 "metadata": {
  "kernelspec": {
   "display_name": "Python 3",
   "language": "python",
   "name": "python3"
  },
  "language_info": {
   "codemirror_mode": {
    "name": "ipython",
    "version": 3
   },
   "file_extension": ".py",
   "mimetype": "text/x-python",
   "name": "python",
   "nbconvert_exporter": "python",
   "pygments_lexer": "ipython3",
   "version": "3.8.1"
  }
 },
 "nbformat": 4,
 "nbformat_minor": 4
}
