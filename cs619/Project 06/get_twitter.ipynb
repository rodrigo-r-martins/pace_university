{
 "cells": [
  {
   "cell_type": "code",
   "execution_count": 1,
   "metadata": {},
   "outputs": [],
   "source": [
    "# Program used for downloading new Twitter data\n",
    "\n",
    "# The first step is to set the authorization tokens from the Twitter app's page\n",
    "import twitter\n",
    "consumer_key = 'ysled1Vd292M3P6Y5HBhdInrT'\n",
    "consumer_secret = 'icsVBE8MASwZNrdRYBlr74Rx955rtgaBVbZOWuoPDgvOFKbDvC'\n",
    "access_token = '1223330048-VDr9S3dsWm8b3l8EBDNK1DwmXD8V0hzaLKmr1gn'\n",
    "access_token_secret = 'nEnLTbYQ7pfr5EqzM7BLNNcAk3RmT3gZUzvuUXskUECUh'\n",
    "authorization = twitter.OAuth(access_token, access_token_secret, consumer_key, consumer_secret)"
   ]
  },
  {
   "cell_type": "code",
   "execution_count": 2,
   "metadata": {},
   "outputs": [],
   "source": [
    "# Setting filename where the tweets will be stored\n",
    "import os\n",
    "output_filename = os.path.join(os.path.expanduser('~'), 'OneDrive', 'Desktop', 'Pace', 'CS619', 'Chapter06', 'Data', 'python_tweets.json')"
   ]
  },
  {
   "cell_type": "code",
   "execution_count": 3,
   "metadata": {},
   "outputs": [],
   "source": [
    "# Creating an object with the authorization object created earlier that can red from Twitter\n",
    "t = twitter.Twitter(auth=authorization)"
   ]
  },
  {
   "cell_type": "code",
   "execution_count": 4,
   "metadata": {},
   "outputs": [],
   "source": [
    "# Opening and writing in the output file\n",
    "import json\n",
    "with open(output_filename, 'a') as output_file:\n",
    "    search_results = t.search.tweets(q='python', count=100)['statuses']\n",
    "    for tweet in search_results:\n",
    "        if 'text' in tweet:\n",
    "            output_file.write(json.dumps(tweet))\n",
    "            output_file.write('\\n\\n')"
   ]
  },
  {
   "cell_type": "code",
   "execution_count": null,
   "metadata": {},
   "outputs": [],
   "source": []
  }
 ],
 "metadata": {
  "kernelspec": {
   "display_name": "Python 3",
   "language": "python",
   "name": "python3"
  },
  "language_info": {
   "codemirror_mode": {
    "name": "ipython",
    "version": 3
   },
   "file_extension": ".py",
   "mimetype": "text/x-python",
   "name": "python",
   "nbconvert_exporter": "python",
   "pygments_lexer": "ipython3",
   "version": "3.8.1"
  }
 },
 "nbformat": 4,
 "nbformat_minor": 4
}
